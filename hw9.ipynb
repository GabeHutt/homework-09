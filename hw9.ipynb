{
 "cells": [
  {
   "cell_type": "markdown",
   "metadata": {},
   "source": [
    "# Back Bay National Wildlife Refuge\n",
    "\n",
    "\n",
    "> Back Bay National Wildlife Refuge is located in the southeastern corner of the City of Virginia Beach. The refuge was established in 1938 to protect and provide habitat for migrating and wintering waterfowl. Diverse habitats, including beachfront, freshwater marsh, dunes, shrub-scrub and upland forest are home to hundreds of species of birds, reptiles, amphibians, mammals and fish.\n",
    "\n",
    "![BNWR](https://www.fws.gov/sites/default/files/styles/banner_image_xl/public/banner_images/2020-09/waterfowl%20%28tundras%29.jpg?h=0c8d0f81&itok=NcZlpD27)\n",
    "\n",
    "\n",
    "To get introduced to the park and its history, please view the following interactive story map.\n",
    "\n",
    "[BBNWR History and Introduction](https://storymaps.arcgis.com/stories/960d9db38cca4f3d8d38111119b9874f)\n",
    "\n",
    "Additionally, here is some drone footage of the park for a better look at the geography and ecology of the area.\n",
    "\n",
    "[BBNWR Drone Footage](https://www.youtube.com/watch?v=NlW330aBTCc)"
   ]
  },
  {
   "cell_type": "code",
   "execution_count": 1,
   "metadata": {},
   "outputs": [],
   "source": [
    "import os\n",
    "import pandas as pd\n",
    "import numpy as np\n",
    "import seaborn as sb\n",
    "import statsmodels.api as sm\n",
    "import scipy.stats as sps\n",
    "import statsmodels.stats.proportion as prop"
   ]
  },
  {
   "cell_type": "code",
   "execution_count": 2,
   "metadata": {},
   "outputs": [
    {
     "data": {
      "text/plain": [
       "Index(['Site_Id', 'Unit_Id', 'Read_Date', 'Salinity (ppt)',\n",
       "       'Dissolved Oxygen (mg/L)', 'pH (standard units)', 'Secchi Depth (m)',\n",
       "       'Water Depth (m)', 'Water Temp (?C)', 'Air Temp-Celsius',\n",
       "       'Air Temp (?F)', 'Time (24:00)', 'Field_Tech', 'DateVerified',\n",
       "       'WhoVerified', 'AirTemp (C)', 'Year'],\n",
       "      dtype='object')"
      ]
     },
     "execution_count": 2,
     "metadata": {},
     "output_type": "execute_result"
    }
   ],
   "source": [
    "bbnwr = pd.read_csv(\"./BKB_WaterQualityData_2020084.csv\")\n",
    "bbnwr.columns"
   ]
  },
  {
   "cell_type": "code",
   "execution_count": 3,
   "metadata": {},
   "outputs": [],
   "source": [
    "bbnwr[\"Site_Id\"] = bbnwr[\"Site_Id\"].replace({'d': 'D'})"
   ]
  },
  {
   "cell_type": "markdown",
   "metadata": {},
   "source": [
    "## Question 1\n",
    "\n",
    "### Q1a\n",
    "\n",
    "The water in BBNWR is a mix of fresh water and sea water. Sea water has an average salinity of 35 ppt (parts per thousand). Because fresh water flows into the Bay, however, the level of salinity can be much lower, depending how much fresh water enters the system. Such systems are described through a tiered system of descriptions based on the amount of salt in the water.\n",
    "\n",
    "A oligohaline mixture is one in which the saline content is between 0.5 - 5.0. More details on [classifying estuaries can be found in this EPA report](https://www.epa.gov/sites/default/files/2015-09/documents/2009_03_13_estuaries_monitor_chap14.pdf).\n",
    "\n",
    "Let's test the theory that the measurements from the Bay come from a oligohaline mixture or a mixture with more saline content, so that salinity is more than 0.5.\n",
    "\n",
    "For this hypothesis test will we use a $\\alpha$-level (maximum Type I error probability) of $0.0015$.\n",
    "\n",
    "Clearly state:\n",
    "\n",
    "- The null hypothesis\n",
    "- The alternative hypothesis\n",
    "- A suitable test statistic\n",
    "- The standard error of this test statistic\n",
    "- A rejection region that will have probability of including the test statistic 0.0015 when the null hypothesis is true.\n",
    "\n",
    "*Double click to add your answer*\n",
    "\n",
    "\n",
    "\n",
    "### Q1b\n",
    "\n",
    "Now that we have described our hypothesis test, compute all quantities needed to compute the test statistic, standard error, and rejection region. You may find it helpful to create a table that only includes observations from the Bay with non-missing values for \"Salinity (ppt)\"."
   ]
  },
  {
   "cell_type": "code",
   "execution_count": 4,
   "metadata": {},
   "outputs": [],
   "source": [
    "# compute quantities"
   ]
  },
  {
   "cell_type": "markdown",
   "metadata": {},
   "source": [
    "### Q1c\n",
    "\n",
    "Perform the hypothesis test. Clearly state whether you reject or fail to reject the null hypothesis. Interpret this result with result to the original question of whether the average salinity of the Bay is consistent with a oligohaline (or more extreme) mixture.\n"
   ]
  },
  {
   "cell_type": "code",
   "execution_count": 5,
   "metadata": {},
   "outputs": [],
   "source": [
    "# perform test"
   ]
  },
  {
   "cell_type": "markdown",
   "metadata": {},
   "source": [
    "### Q1d\n",
    "\n",
    "We could also approach this question by creating a confidence interval for the average salinity in the population of all measurements in the Bay.\n",
    "\n",
    "Using the quantities above, create a 99.7% confidence interval of the average salinity of the Bay. What does this interval tell us about the following table of salinity mixture tiers:\n",
    "\n",
    "| Level | Salinity |\n",
    "| ----- | -------- |\n",
    "| Fresh Water | < 0.5 ppt |\n",
    "| Oligohaline | 0.5 -- 5.0 ppt|\n",
    "| Mesohaline | 5.0-18.0 ppt|\n",
    "| Polyhaline | 18.0­ -- 30 ppt |\n",
    "| Ocean | > 30 ppt |\n"
   ]
  },
  {
   "cell_type": "code",
   "execution_count": 6,
   "metadata": {},
   "outputs": [],
   "source": [
    "# confidence interval"
   ]
  },
  {
   "cell_type": "markdown",
   "metadata": {},
   "source": [
    "Which of these levels can be ruled out for the Bay?\n",
    "\n",
    "*Double click to add your answer*\n",
    "\n",
    "## Question 2\n",
    "\n",
    "### Q2a\n",
    "\n",
    "A [Secchi disk](https://en.wikipedia.org/wiki/Secchi_disk) is a device used to measure the clarity of water by submerging the disk and measuring the depth at which it is no longer visible.\n",
    "\n",
    "![Secchi Disk](https://upload.wikimedia.org/wikipedia/commons/thumb/0/0b/Secchi_disk_pattern.svg/240px-Secchi_disk_pattern.svg.png)\n",
    "\n",
    "A common definition of \"clear water\" is being able to view a Secchi disk at 4m. In the case of the BBNWR, most of the depths are less than 4m:\n"
   ]
  },
  {
   "cell_type": "code",
   "execution_count": 7,
   "metadata": {},
   "outputs": [
    {
     "data": {
      "text/plain": [
       "<Axes: xlabel='Water Depth (m)', ylabel='Count'>"
      ]
     },
     "execution_count": 7,
     "metadata": {},
     "output_type": "execute_result"
    },
    {
     "data": {
      "image/png": "[encoded data removed]",
      "text/plain": [
       "<Figure size 640x480 with 1 Axes>"
      ]
     },
     "metadata": {},
     "output_type": "display_data"
    }
   ],
   "source": [
    "sb.histplot(data = bbnwr, x = \"Water Depth (m)\")"
   ]
  },
  {
   "cell_type": "markdown",
   "metadata": {},
   "source": [
    "Create a new column \"clear\" that is `True` if either of the following conditions is met:\n",
    "\n",
    "- The \"Secchi Depth (m)\" is at least 4m\n",
    "- The \"Secchi Depth (m)\" is at least as large as the \"Water Depth (m)\" (due to small differences due to waves/location/etc\n",
    " Secchi Depth can be (slightly) greater than Water Depth)\n",
    "\n",
    " Display the proportion of \"clear\" observations.\n"
   ]
  },
  {
   "cell_type": "code",
   "execution_count": 8,
   "metadata": {},
   "outputs": [],
   "source": [
    "# proprotion of clear observations"
   ]
  },
  {
   "cell_type": "markdown",
   "metadata": {},
   "source": [
    "### Q2b\n",
    "\n",
    "Test the hypothesis  that the population proportion of clear measurements is 37% against the alternative that it is not equal to 37%.\n",
    "\n",
    "Use $\\alpha = 0.05$. Clearly state if you reject or fail to reject this hypothesis."
   ]
  },
  {
   "cell_type": "code",
   "execution_count": 9,
   "metadata": {},
   "outputs": [],
   "source": [
    "# test"
   ]
  },
  {
   "cell_type": "markdown",
   "metadata": {},
   "source": [
    "*Double click to add your answer*\n",
    "\n",
    "### Q2c\n",
    "\n",
    "Referring the result from the previous section, compute the $p$-value for this hypothesis."
   ]
  },
  {
   "cell_type": "code",
   "execution_count": 10,
   "metadata": {},
   "outputs": [],
   "source": [
    "# you will find sps.norm.cdf helpful"
   ]
  },
  {
   "cell_type": "markdown",
   "metadata": {},
   "source": [
    "Consider three different people:\n",
    "\n",
    "- Person A has a 10% tolerance for Type I errors\n",
    "- Person B has a 5% tolerance for Type I errors\n",
    "- Person C has a 1% tolerance for Type I errors\n",
    "\n",
    "\n",
    "Which of these people (if any) would reject the null hypothesis that 40% of all possible measurements would be clear. Justify your answer.\n",
    "\n",
    "### Q2d\n",
    "\n",
    "Using values you computed in the previous sections, create a 95% confidence interval for the proportion of clear observations in the population of all observations.\n",
    "\n",
    "Note: you will need to use the estimated standard error of the sample proportion ($\\hat p$) of: $\\sqrt{\\frac{\\hat p(1-\\hat p)}{n}}$.\n",
    "\n",
    "Interpret this result in words."
   ]
  },
  {
   "cell_type": "code",
   "execution_count": 11,
   "metadata": {},
   "outputs": [],
   "source": [
    "# confidence interval"
   ]
  },
  {
   "cell_type": "markdown",
   "metadata": {},
   "source": [
    "*Double click to add your answer*\n",
    "## Question 3\n",
    "\n",
    "### Q3a\n",
    "\n",
    "Recall that if there is no relationship between two variables (i.e., they are statistically independent in the population), then the correlation coefficient will be zero (or more generally, if there is no linear relationship).\n",
    "\n",
    "Using the standard error for a correlation coefficient. Test the hypothesis that the correlation between \"AirTemp (C)\" and \"Water Temp (?C)\" is zero against the alternative that it is non-zero. Use an $\\alpha$-level of 0.05.\n",
    "\n",
    "Note: it is helpful to create a table that only these two variables and no missing values."
   ]
  },
  {
   "cell_type": "code",
   "execution_count": 12,
   "metadata": {},
   "outputs": [],
   "source": [
    "# test"
   ]
  },
  {
   "cell_type": "markdown",
   "metadata": {},
   "source": [
    "Interpret this result. Would you reject the hypothesis that there is no linear relationship between these two variables (in the population)?\n",
    "\n",
    "*Double click to add your answer*\n",
    "\n",
    "### Q3b\n",
    "\n",
    "Create two confidence intervals for the population correlation coefficient:\n",
    "\n",
    "- a 95% CI\n",
    "- a 99.7% CI"
   ]
  },
  {
   "cell_type": "code",
   "execution_count": 13,
   "metadata": {},
   "outputs": [],
   "source": [
    "# confidence intervals"
   ]
  },
  {
   "cell_type": "markdown",
   "metadata": {},
   "source": [
    "Which interval is wider? Explain why we know this would be true without ever calculating the intervals.\n",
    "\n",
    "*Double click to add your answer*\n",
    "\n",
    "## Question 4\n",
    "\n",
    "Let's investigate if the locations of the measurements are related to the time of year of the measurement. In other words, do the people taking the measurements favor different sites at different times of the year."
   ]
  },
  {
   "cell_type": "code",
   "execution_count": 14,
   "metadata": {},
   "outputs": [],
   "source": [
    "bbnwr[\"Date\"] = pd.to_datetime(bbnwr[\"Read_Date\"])"
   ]
  },
  {
   "cell_type": "markdown",
   "metadata": {},
   "source": [
    "### Q4a\n",
    "\n",
    "Create a table that only includes the columns \"Site_Id\" and \"Date\". Then, create a new column \"Month\" that is the month of the date of the measurement (using the `.dt.month` attribute of the `\"Date\"` column created above). Plot the distribution of this variable."
   ]
  },
  {
   "cell_type": "code",
   "execution_count": 15,
   "metadata": {},
   "outputs": [],
   "source": [
    "# month plot"
   ]
  },
  {
   "cell_type": "markdown",
   "metadata": {},
   "source": [
    "### Q4b\n",
    "\n",
    "We have noted that one way to think about independence is by thing about conditional distributions. If two variables are independent, then the conditional distribution of one variable should be the same regardless of conditioning on the value of the other variable.\n",
    "\n",
    "Create a plot that shows the conditional distribution of Site_Id for each value of month. Note: the `histplot` method has two arguments that are helpful -- `multipel = 'fill'` anad `discrete = True`."
   ]
  },
  {
   "cell_type": "code",
   "execution_count": 16,
   "metadata": {},
   "outputs": [],
   "source": [
    "# plots"
   ]
  },
  {
   "cell_type": "markdown",
   "metadata": {},
   "source": [
    "What do you notice about the conditional distributions? Does this suggest that the variables are independent?\n",
    "\n",
    "*Double click to add interpretation*\n",
    "\n",
    "### Q4c\n",
    "\n",
    "Create the *contingency table* for the variables \"Site_Id\" and \"Month\". Print out this table. What do you notice about the row or column (this will depend on how you order the data) that represents the \"Bay\" site? This row/column will look different than the others. Is this evidence that the the variables are dependent? Why or why not?"
   ]
  },
  {
   "cell_type": "code",
   "execution_count": 17,
   "metadata": {},
   "outputs": [],
   "source": [
    "# print out table"
   ]
  },
  {
   "cell_type": "markdown",
   "metadata": {},
   "source": [
    "### Q4d\n",
    "\n",
    "Using the `sps.chi2_contingency` function, perform a $\\chi^2$ test for independence between these two variables. Use an $\\alpha$-level of 0.05. Report if you would reject the null hypothesis that the variables are independent. Write, in words, your conclusion to the question of whether different sites were favored in particular months."
   ]
  },
  {
   "cell_type": "code",
   "execution_count": 18,
   "metadata": {},
   "outputs": [],
   "source": [
    "# compute p-value"
   ]
  },
  {
   "cell_type": "markdown",
   "metadata": {},
   "source": [
    "*Double click to add your answer*"
   ]
  }
 ],
 "metadata": {
  "kernelspec": {
   "display_name": "Python 3",
   "language": "python",
   "name": "python3"
  },
  "language_info": {
   "codemirror_mode": {
    "name": "ipython",
    "version": 3
   },
   "file_extension": ".py",
   "mimetype": "text/x-python",
   "name": "python",
   "nbconvert_exporter": "python",
   "pygments_lexer": "ipython3",
   "version": "3.12.1"
  }
 },
 "nbformat": 4,
 "nbformat_minor": 4
}

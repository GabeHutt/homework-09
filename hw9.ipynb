{
 "cells": [
  {
   "cell_type": "markdown",
   "metadata": {},
   "source": [
    "# Back Bay National Wildlife Refuge\n",
    "\n",
    "\n",
    "> Back Bay National Wildlife Refuge is located in the southeastern corner of the City of Virginia Beach. The refuge was established in 1938 to protect and provide habitat for migrating and wintering waterfowl. Diverse habitats, including beachfront, freshwater marsh, dunes, shrub-scrub and upland forest are home to hundreds of species of birds, reptiles, amphibians, mammals and fish.\n",
    "\n",
    "![BNWR](https://www.fws.gov/sites/default/files/styles/banner_image_xl/public/banner_images/2020-09/waterfowl%20%28tundras%29.jpg?h=0c8d0f81&itok=NcZlpD27)\n",
    "\n",
    "\n",
    "To get introduced to the park and its history, please view the following interactive story map.\n",
    "\n",
    "[BBNWR History and Introduction](https://storymaps.arcgis.com/stories/960d9db38cca4f3d8d38111119b9874f)\n",
    "\n",
    "Additionally, here is some drone footage of the park for a better look at the geography and ecology of the area.\n",
    "\n",
    "[BBNWR Drone Footage](https://www.youtube.com/watch?v=NlW330aBTCc)"
   ]
  },
  {
   "cell_type": "code",
   "execution_count": 24,
   "metadata": {},
   "outputs": [],
   "source": [
    "import os\n",
    "import pandas as pd\n",
    "import numpy as np\n",
    "import seaborn as sb\n",
    "import statsmodels.api as sm\n",
    "import scipy.stats as sps\n",
    "import statsmodels.stats.proportion as prop"
   ]
  },
  {
   "cell_type": "code",
   "execution_count": 25,
   "metadata": {},
   "outputs": [
    {
     "data": {
      "text/plain": [
       "Index(['Site_Id', 'Unit_Id', 'Read_Date', 'Salinity (ppt)',\n",
       "       'Dissolved Oxygen (mg/L)', 'pH (standard units)', 'Secchi Depth (m)',\n",
       "       'Water Depth (m)', 'Water Temp (?C)', 'Air Temp-Celsius',\n",
       "       'Air Temp (?F)', 'Time (24:00)', 'Field_Tech', 'DateVerified',\n",
       "       'WhoVerified', 'AirTemp (C)', 'Year'],\n",
       "      dtype='object')"
      ]
     },
     "execution_count": 25,
     "metadata": {},
     "output_type": "execute_result"
    }
   ],
   "source": [
    "bbnwr = pd.read_csv(\"./BKB_WaterQualityData_2020084.csv\")\n",
    "bbnwr.columns"
   ]
  },
  {
   "cell_type": "code",
   "execution_count": 26,
   "metadata": {},
   "outputs": [],
   "source": [
    "bbnwr[\"Site_Id\"] = bbnwr[\"Site_Id\"].replace({'d': 'D'})"
   ]
  },
  {
   "cell_type": "markdown",
   "metadata": {},
   "source": [
    "## Question 1\n",
    "\n",
    "### Q1a\n",
    "\n",
    "The water in BBNWR is a mix of fresh water and sea water. Sea water has an average salinity of 35 ppt (parts per thousand). Because fresh water flows into the Bay, however, the level of salinity can be much lower, depending how much fresh water enters the system. Such systems are described through a tiered system of descriptions based on the amount of salt in the water.\n",
    "\n",
    "A oligohaline mixture is one in which the saline content is between 0.5 - 5.0. More details on [classifying estuaries can be found in this EPA report](https://www.epa.gov/sites/default/files/2015-09/documents/2009_03_13_estuaries_monitor_chap14.pdf).\n",
    "\n",
    "Let's test the theory that the measurements from the Bay come from a oligohaline mixture or a mixture with more saline content, so that salinity is more than 0.5.\n",
    "\n",
    "For this hypothesis test will we use a $\\alpha$-level (maximum Type I error probability) of $0.0015$.\n",
    "\n",
    "Clearly state:\n",
    "\n",
    "- The null hypothesis\n",
    "- The alternative hypothesis\n",
    "- A suitable test statistic\n",
    "- The standard error of this test statistic\n",
    "- A rejection region that will have probability of including the test statistic 0.0015 when the null hypothesis is true.\n",
    "\n",
    "1) The mean salinity of the Bay is less than or equal to .5ppt\n",
    "2) The mean salinity of the Bay is greather than .5ppt\n",
    "3) z = mean - .5 / (standard deviation / sqrt(sample size))\n",
    "4) standard deviation / sqrt(sample size)\n",
    "5) Reject the null hypotheseis if z > 3.08\n",
    "\n",
    "\n",
    "\n",
    "### Q1b\n",
    "\n",
    "Now that we have described our hypothesis test, compute all quantities needed to compute the test statistic, standard error, and rejection region. You may find it helpful to create a table that only includes observations from the Bay with non-missing values for \"Salinity (ppt)\"."
   ]
  },
  {
   "cell_type": "code",
   "execution_count": 27,
   "metadata": {},
   "outputs": [],
   "source": [
    "# Filter valid salinity values\n",
    "salinity_data = bbnwr[bbnwr[\"Salinity (ppt)\"].notna()][\"Salinity (ppt)\"]\n",
    "\n",
    "# Calculate statistics\n",
    "mean_salinity = salinity_data.mean()\n",
    "std_dev_salinity = salinity_data.std()\n",
    "n = len(salinity_data)\n",
    "\n",
    "# Compute standard error\n",
    "se = std_dev_salinity / np.sqrt(n)\n",
    "\n",
    "# Set alpha\n",
    "alpha = 0.0015\n",
    "z_alpha = sps.norm.ppf(1 - alpha)\n"
   ]
  },
  {
   "cell_type": "markdown",
   "metadata": {},
   "source": [
    "### Q1c\n",
    "\n",
    "Perform the hypothesis test. Clearly state whether you reject or fail to reject the null hypothesis. Interpret this result with result to the original question of whether the average salinity of the Bay is consistent with a oligohaline (or more extreme) mixture.\n"
   ]
  },
  {
   "cell_type": "code",
   "execution_count": 28,
   "metadata": {},
   "outputs": [
    {
     "name": "stdout",
     "output_type": "stream",
     "text": [
      "(Null hypothesis rejected:  True ) (z-test statistic:  8.348783426538986 )\n"
     ]
    }
   ],
   "source": [
    "# perform test# Compute z-test statistic\n",
    "z_stat = (mean_salinity - 0.5) / se\n",
    "\n",
    "# Check rejection condition\n",
    "reject_null = z_stat > z_alpha\n",
    "\n",
    "# Display results\n",
    "print(\"(Null hypothesis rejected: \", reject_null,\")\", \"(z-test statistic: \", z_stat, \")\")\n"
   ]
  },
  {
   "cell_type": "markdown",
   "metadata": {},
   "source": [
    "This result indicates that the mean salinity of the Bay is significantly greater than 0.5 ppt, suggesting that the water in the Bay is not consistent with a purely fresh or oligohaline mixture. Instead, the salinity level implies the Bay may fall into a higher salinity tier, such as mesohaline or beyond."
   ]
  },
  {
   "cell_type": "markdown",
   "metadata": {},
   "source": [
    "### Q1d\n",
    "\n",
    "We could also approach this question by creating a confidence interval for the average salinity in the population of all measurements in the Bay.\n",
    "\n",
    "Using the quantities above, create a 99.7% confidence interval of the average salinity of the Bay. What does this interval tell us about the following table of salinity mixture tiers:\n",
    "\n",
    "| Level | Salinity |\n",
    "| ----- | -------- |\n",
    "| Fresh Water | < 0.5 ppt |\n",
    "| Oligohaline | 0.5 -- 5.0 ppt|\n",
    "| Mesohaline | 5.0-18.0 ppt|\n",
    "| Polyhaline | 18.0­ -- 30 ppt |\n",
    "| Ocean | > 30 ppt |\n"
   ]
  },
  {
   "cell_type": "code",
   "execution_count": 29,
   "metadata": {},
   "outputs": [
    {
     "data": {
      "text/plain": [
       "(np.float64(0.639907121157718), np.float64(0.7942294250270209))"
      ]
     },
     "execution_count": 29,
     "metadata": {},
     "output_type": "execute_result"
    }
   ],
   "source": [
    "# Compute 99.7% confidence interval\n",
    "ci_lower = mean_salinity - z_alpha * se\n",
    "ci_upper = mean_salinity + z_alpha * se\n",
    "\n",
    "ci_lower, ci_upper\n"
   ]
  },
  {
   "cell_type": "markdown",
   "metadata": {},
   "source": [
    "The 99.7% confidence interval for the average salinity in the Bay is approximately \n",
    "(\n",
    "0.64\n",
    ",\n",
    "0.79\n",
    ")\n",
    "(0.64,0.79) ppt. This interval provides a range of plausible values for the true mean salinity in the population of all measurements from the Bay."
   ]
  },
  {
   "cell_type": "markdown",
   "metadata": {},
   "source": [
    "Which of these levels can be ruled out for the Bay?\n",
    "\n",
    "Fresh Water (< 0.5 ppt): This level can be ruled out because the confidence interval is entirely above 0.5 ppt.\n",
    "Oligohaline (0.5 -- 5.0 ppt): This level is consistent with the confidence interval since it falls within the range.\n",
    "Mesohaline (5.0 -- 18.0 ppt), Polyhaline (18.0 -- 30 ppt), and Ocean (> 30 ppt): These levels can be ruled out as the confidence interval is far below these thresholds.\n",
    "\n",
    "## Question 2\n",
    "\n",
    "### Q2a\n",
    "\n",
    "A [Secchi disk](https://en.wikipedia.org/wiki/Secchi_disk) is a device used to measure the clarity of water by submerging the disk and measuring the depth at which it is no longer visible.\n",
    "\n",
    "![Secchi Disk](https://upload.wikimedia.org/wikipedia/commons/thumb/0/0b/Secchi_disk_pattern.svg/240px-Secchi_disk_pattern.svg.png)\n",
    "\n",
    "A common definition of \"clear water\" is being able to view a Secchi disk at 4m. In the case of the BBNWR, most of the depths are less than 4m:\n"
   ]
  },
  {
   "cell_type": "code",
   "execution_count": 30,
   "metadata": {},
   "outputs": [
    {
     "data": {
      "text/plain": [
       "<Axes: xlabel='Water Depth (m)', ylabel='Count'>"
      ]
     },
     "execution_count": 30,
     "metadata": {},
     "output_type": "execute_result"
    },
    {
     "data": {
      "image/png": "[encoded data removed]",
      "text/plain": [
       "<Figure size 640x480 with 1 Axes>"
      ]
     },
     "metadata": {},
     "output_type": "display_data"
    }
   ],
   "source": [
    "sb.histplot(data = bbnwr, x = \"Water Depth (m)\")"
   ]
  },
  {
   "cell_type": "markdown",
   "metadata": {},
   "source": [
    "Create a new column \"clear\" that is `True` if either of the following conditions is met:\n",
    "\n",
    "- The \"Secchi Depth (m)\" is at least 4m\n",
    "- The \"Secchi Depth (m)\" is at least as large as the \"Water Depth (m)\" (due to small differences due to waves/location/etc\n",
    " Secchi Depth can be (slightly) greater than Water Depth)\n",
    "\n",
    " Display the proportion of \"clear\" observations.\n"
   ]
  },
  {
   "cell_type": "code",
   "execution_count": 31,
   "metadata": {},
   "outputs": [
    {
     "data": {
      "text/plain": [
       "np.float64(0.3888654576128216)"
      ]
     },
     "execution_count": 31,
     "metadata": {},
     "output_type": "execute_result"
    }
   ],
   "source": [
    "# Define clear conditions\n",
    "bbnwr[\"clear\"] = (bbnwr[\"Secchi Depth (m)\"] >= 4) | (bbnwr[\"Secchi Depth (m)\"] >= bbnwr[\"Water Depth (m)\"])\n",
    "\n",
    "# Proportion of clear observations\n",
    "clear_proportion = bbnwr[\"clear\"].mean()\n",
    "clear_proportion\n"
   ]
  },
  {
   "cell_type": "markdown",
   "metadata": {},
   "source": [
    "### Q2b\n",
    "\n",
    "Test the hypothesis  that the population proportion of clear measurements is 37% against the alternative that it is not equal to 37%.\n",
    "\n",
    "Use $\\alpha = 0.05$. Clearly state if you reject or fail to reject this hypothesis."
   ]
  },
  {
   "cell_type": "code",
   "execution_count": 32,
   "metadata": {},
   "outputs": [
    {
     "name": "stdout",
     "output_type": "stream",
     "text": [
      "(Null prop rejected:  False ) (z_stat_prop:  1.9026634890938103 )\n"
     ]
    }
   ],
   "source": [
    "# Hypothesized proportion\n",
    "p0 = 0.37\n",
    "p_hat = clear_proportion\n",
    "n = len(bbnwr)\n",
    "\n",
    "# Standard error\n",
    "se_p = np.sqrt(p0 * (1 - p0) / n)\n",
    "\n",
    "# Test statistic\n",
    "z_stat_prop = (p_hat - p0) / se_p\n",
    "\n",
    "# Rejection condition\n",
    "reject_null_prop = abs(z_stat_prop) > sps.norm.ppf(1 - 0.05 / 2)\n",
    "reject_null_prop, z_stat_prop\n",
    "print(\"(Null prop rejected: \", reject_null_prop, \")\", \"(z_stat_prop: \", z_stat_prop, \")\")\n"
   ]
  },
  {
   "cell_type": "markdown",
   "metadata": {},
   "source": [
    "There is insufficient evidence to conclude that the population proportion of clear measurements is different from 37%. The data does not suggest a statistically significant departure from this hypothesized proportion.\n",
    "\n",
    "### Q2c\n",
    "\n",
    "Referring the result from the previous section, compute the $p$-value for this hypothesis."
   ]
  },
  {
   "cell_type": "code",
   "execution_count": 33,
   "metadata": {},
   "outputs": [
    {
     "data": {
      "text/plain": [
       "np.float64(0.05708446897063846)"
      ]
     },
     "execution_count": 33,
     "metadata": {},
     "output_type": "execute_result"
    }
   ],
   "source": [
    "# Two-tailed p-value\n",
    "p_value = 2 * (1 - sps.norm.cdf(abs(z_stat_prop)))\n",
    "p_value\n"
   ]
  },
  {
   "cell_type": "markdown",
   "metadata": {},
   "source": [
    "Consider three different people:\n",
    "\n",
    "- Person A has a 10% tolerance for Type I errors\n",
    "- Person B has a 5% tolerance for Type I errors\n",
    "- Person C has a 1% tolerance for Type I errors\n",
    "\n",
    "\n",
    "Which of these people (if any) would reject the null hypothesis that 40% of all possible measurements would be clear. Justify your answer.\n",
    "\n",
    "Only one of the individuals with their respective Type I error tolerances would reject the null hypothesis. This further supports the conclusion that there is no strong evidence to suggest the population proportion of clear measurements is significantly different from 37%.\n",
    "\n",
    "Person A (10% tolerance): Would reject the null hypothesis, as p = 0.0571 < 0.10\n",
    "\n",
    "Person B (5% tolerance): Would not reject the null hypothesis, as p = 0.0571 > 0.05\n",
    "\n",
    "Person C (1% tolerance): Would not reject the null hypothesis, as p = 0.0571 > 0.01\n",
    "\n",
    "\n",
    "### Q2d\n",
    "\n",
    "Using values you computed in the previous sections, create a 95% confidence interval for the proportion of clear observations in the population of all observations.\n",
    "\n",
    "Note: you will need to use the estimated standard error of the sample proportion ($\\hat p$) of: $\\sqrt{\\frac{\\hat p(1-\\hat p)}{n}}$.\n",
    "\n",
    "Interpret this result in words."
   ]
  },
  {
   "cell_type": "code",
   "execution_count": 34,
   "metadata": {},
   "outputs": [
    {
     "data": {
      "text/plain": [
       "(np.float64(0.36943184905043314), np.float64(0.40829906617521006))"
      ]
     },
     "execution_count": 34,
     "metadata": {},
     "output_type": "execute_result"
    }
   ],
   "source": [
    "# confidence interval\n",
    "# Compute confidence interval\n",
    "z_critical = sps.norm.ppf(1 - 0.05 / 2)\n",
    "ci_lower_prop = p_hat - z_critical * se_p\n",
    "ci_upper_prop = p_hat + z_critical * se_p\n",
    "\n",
    "ci_lower_prop, ci_upper_prop\n"
   ]
  },
  {
   "cell_type": "markdown",
   "metadata": {},
   "source": [
    "The 95% confidence interval for the proportion of clear observations in the population is approximately (0.3694, 0.4083). This means we are 95% confident that the true proportion of clear observations in the population lies between 36.94% and 40.83%.\n",
    "\n",
    "## Question 3\n",
    "\n",
    "### Q3a\n",
    "\n",
    "Recall that if there is no relationship between two variables (i.e., they are statistically independent in the population), then the correlation coefficient will be zero (or more generally, if there is no linear relationship).\n",
    "\n",
    "Using the standard error for a correlation coefficient. Test the hypothesis that the correlation between \"AirTemp (C)\" and \"Water Temp (?C)\" is zero against the alternative that it is non-zero. Use an $\\alpha$-level of 0.05.\n",
    "\n",
    "Note: it is helpful to create a table that only these two variables and no missing values."
   ]
  },
  {
   "cell_type": "code",
   "execution_count": 35,
   "metadata": {},
   "outputs": [
    {
     "data": {
      "text/plain": [
       "(np.True_, np.float64(32.25007467256541))"
      ]
     },
     "execution_count": 35,
     "metadata": {},
     "output_type": "execute_result"
    }
   ],
   "source": [
    "# test\n",
    "# Filter variables with non-missing values\n",
    "temp_data = bbnwr[[\"AirTemp (C)\", 'Water Temp (?C)']].dropna()\n",
    "\n",
    "# Calculate correlation and standard error\n",
    "correlation = temp_data.corr().iloc[0, 1]\n",
    "n_temp = len(temp_data)\n",
    "se_corr = 1 / np.sqrt(n_temp - 3)\n",
    "\n",
    "# Test statistic\n",
    "z_corr = correlation / se_corr\n",
    "\n",
    "# Rejection condition\n",
    "reject_null_corr = abs(z_corr) > sps.norm.ppf(1 - 0.05 / 2)\n",
    "reject_null_corr, z_corr\n"
   ]
  },
  {
   "cell_type": "markdown",
   "metadata": {},
   "source": [
    "Interpret this result. Would you reject the hypothesis that there is no linear relationship between these two variables (in the population)?\n",
    "\n",
    "The null hypothesis states that there is no linear relationship between \"Air Temp (°C)\" and \"Water Temp (°C)\" (correlation coefficient = 0). The alternative hypothesis states that there is a non-zero correlation between these variables.\n",
    "\n",
    "z=32.2501 is extremely large, far exceeding any reasonable critical value for typical α. This result indicates strong evidence against the null hypothesis.\n",
    "\n",
    "We reject the null hypothesis at the α=0.05 level. This suggests that there is a statistically significant linear relationship between \"Air Temp (°C)\" and \"Water Temp (°C)\" in the population. Thus, we conclude that changes in air temperature are associated with changes in water temperature.\n",
    "\n",
    "### Q3b\n",
    "\n",
    "Create two confidence intervals for the population correlation coefficient:\n",
    "\n",
    "- a 95% CI\n",
    "- a 99.7% CI"
   ]
  },
  {
   "cell_type": "code",
   "execution_count": 36,
   "metadata": {},
   "outputs": [
    {
     "data": {
      "text/plain": [
       "((np.float64(0.6389977429413383), np.float64(0.7216922286278844)),\n",
       " (np.float64(0.6133721169994599), np.float64(0.7473178545697627)))"
      ]
     },
     "execution_count": 36,
     "metadata": {},
     "output_type": "execute_result"
    }
   ],
   "source": [
    "# Compute confidence intervals\n",
    "z_critical_corr = sps.norm.ppf(1 - 0.05 / 2)\n",
    "ci_lower_corr_95 = correlation - z_critical_corr * se_corr\n",
    "ci_upper_corr_95 = correlation + z_critical_corr * se_corr\n",
    "\n",
    "z_critical_corr_997 = sps.norm.ppf(1 - 0.0015 / 2)\n",
    "ci_lower_corr_997 = correlation - z_critical_corr_997 * se_corr\n",
    "ci_upper_corr_997 = correlation + z_critical_corr_997 * se_corr\n",
    "\n",
    "(ci_lower_corr_95, ci_upper_corr_95), (ci_lower_corr_997, ci_upper_corr_997)\n"
   ]
  },
  {
   "cell_type": "markdown",
   "metadata": {},
   "source": [
    "The 99.7% confidence interval is wider than the 95% confidence interval. This is expected because, as we increase the confidence level, we need to capture a larger range of possible values for the population correlation coefficient to ensure that the interval contains the true value with a higher level of certainty. A higher confidence level demands a wider range, which is why the 99.7% interval is larger.\n",
    "\n"
   ]
  },
  {
   "cell_type": "markdown",
   "metadata": {},
   "source": [
    "Which interval is wider? Explain why we know this would be true without ever calculating the intervals.\n",
    "\n",
    "*Double click to add your answer*\n",
    "\n",
    "## Question 4\n",
    "\n",
    "Let's investigate if the locations of the measurements are related to the time of year of the measurement. In other words, do the people taking the measurements favor different sites at different times of the year."
   ]
  },
  {
   "cell_type": "code",
   "execution_count": 37,
   "metadata": {},
   "outputs": [],
   "source": [
    "bbnwr[\"Date\"] = pd.to_datetime(bbnwr[\"Read_Date\"])"
   ]
  },
  {
   "cell_type": "markdown",
   "metadata": {},
   "source": [
    "### Q4a\n",
    "\n",
    "Create a table that only includes the columns \"Site_Id\" and \"Date\". Then, create a new column \"Month\" that is the month of the date of the measurement (using the `.dt.month` attribute of the `\"Date\"` column created above). Plot the distribution of this variable."
   ]
  },
  {
   "cell_type": "code",
   "execution_count": 38,
   "metadata": {},
   "outputs": [
    {
     "data": {
      "text/plain": [
       "<Axes: xlabel='Month', ylabel='Count'>"
      ]
     },
     "execution_count": 38,
     "metadata": {},
     "output_type": "execute_result"
    },
    {
     "data": {
      "image/png": "[encoded data removed]",
      "text/plain": [
       "<Figure size 640x480 with 1 Axes>"
      ]
     },
     "metadata": {},
     "output_type": "display_data"
    }
   ],
   "source": [
    "# Extract month from date\n",
    "bbnwr[\"Date\"] = pd.to_datetime(bbnwr[\"Read_Date\"])\n",
    "bbnwr[\"Month\"] = bbnwr[\"Date\"].dt.month\n",
    "\n",
    "# Plot month distribution\n",
    "sb.histplot(bbnwr[\"Month\"], discrete=True)\n"
   ]
  },
  {
   "cell_type": "markdown",
   "metadata": {},
   "source": [
    "### Q4b\n",
    "\n",
    "We have noted that one way to think about independence is by thing about conditional distributions. If two variables are independent, then the conditional distribution of one variable should be the same regardless of conditioning on the value of the other variable.\n",
    "\n",
    "Create a plot that shows the conditional distribution of Site_Id for each value of month. Note: the `histplot` method has two arguments that are helpful -- `multipel = 'fill'` anad `discrete = True`."
   ]
  },
  {
   "cell_type": "code",
   "execution_count": 39,
   "metadata": {},
   "outputs": [
    {
     "data": {
      "text/plain": [
       "<Axes: xlabel='Site_Id', ylabel='Count'>"
      ]
     },
     "execution_count": 39,
     "metadata": {},
     "output_type": "execute_result"
    },
    {
     "data": {
      "image/png": "[encoded data removed]",
      "text/plain": [
       "<Figure size 640x480 with 1 Axes>"
      ]
     },
     "metadata": {},
     "output_type": "display_data"
    }
   ],
   "source": [
    "# Plot conditional distribution\n",
    "sb.histplot(data=bbnwr, x=\"Site_Id\", hue=\"Month\", multiple=\"fill\", discrete=True)\n"
   ]
  },
  {
   "cell_type": "markdown",
   "metadata": {},
   "source": [
    "What do you notice about the conditional distributions? Does this suggest that the variables are independent?\n",
    "\n",
    "Given that the plot shows variation in site measurements across months (with certain months showing heavier shading for certain sites), it suggests that there may be some dependence between the measurement sites and the months in which they were taken. This indicates that the site measurements are likely not independent of the time of year.\n",
    "\n",
    "In conclusion, it’s likely that there’s a relationship between the month of the measurement and the site where the measurement was taken, implying some dependency between these two variables.\n",
    "\n",
    "### Q4c\n",
    "\n",
    "Create the *contingency table* for the variables \"Site_Id\" and \"Month\". Print out this table. What do you notice about the row or column (this will depend on how you order the data) that represents the \"Bay\" site? This row/column will look different than the others. Is this evidence that the the variables are dependent? Why or why not?"
   ]
  },
  {
   "cell_type": "code",
   "execution_count": 40,
   "metadata": {},
   "outputs": [
    {
     "data": {
      "text/html": [
       "<div>\n",
       "<style scoped>\n",
       "    .dataframe tbody tr th:only-of-type {\n",
       "        vertical-align: middle;\n",
       "    }\n",
       "\n",
       "    .dataframe tbody tr th {\n",
       "        vertical-align: top;\n",
       "    }\n",
       "\n",
       "    .dataframe thead th {\n",
       "        text-align: right;\n",
       "    }\n",
       "</style>\n",
       "<table border=\"1\" class=\"dataframe\">\n",
       "  <thead>\n",
       "    <tr style=\"text-align: right;\">\n",
       "      <th>Month</th>\n",
       "      <th>1.0</th>\n",
       "      <th>2.0</th>\n",
       "      <th>3.0</th>\n",
       "      <th>4.0</th>\n",
       "      <th>5.0</th>\n",
       "      <th>6.0</th>\n",
       "      <th>7.0</th>\n",
       "      <th>8.0</th>\n",
       "      <th>9.0</th>\n",
       "      <th>10.0</th>\n",
       "      <th>11.0</th>\n",
       "      <th>12.0</th>\n",
       "    </tr>\n",
       "    <tr>\n",
       "      <th>Site_Id</th>\n",
       "      <th></th>\n",
       "      <th></th>\n",
       "      <th></th>\n",
       "      <th></th>\n",
       "      <th></th>\n",
       "      <th></th>\n",
       "      <th></th>\n",
       "      <th></th>\n",
       "      <th></th>\n",
       "      <th></th>\n",
       "      <th></th>\n",
       "      <th></th>\n",
       "    </tr>\n",
       "  </thead>\n",
       "  <tbody>\n",
       "    <tr>\n",
       "      <th>A</th>\n",
       "      <td>31</td>\n",
       "      <td>38</td>\n",
       "      <td>36</td>\n",
       "      <td>35</td>\n",
       "      <td>37</td>\n",
       "      <td>34</td>\n",
       "      <td>35</td>\n",
       "      <td>37</td>\n",
       "      <td>38</td>\n",
       "      <td>40</td>\n",
       "      <td>37</td>\n",
       "      <td>35</td>\n",
       "    </tr>\n",
       "    <tr>\n",
       "      <th>B</th>\n",
       "      <td>31</td>\n",
       "      <td>38</td>\n",
       "      <td>37</td>\n",
       "      <td>37</td>\n",
       "      <td>38</td>\n",
       "      <td>35</td>\n",
       "      <td>35</td>\n",
       "      <td>36</td>\n",
       "      <td>39</td>\n",
       "      <td>40</td>\n",
       "      <td>37</td>\n",
       "      <td>34</td>\n",
       "    </tr>\n",
       "    <tr>\n",
       "      <th>Bay</th>\n",
       "      <td>58</td>\n",
       "      <td>63</td>\n",
       "      <td>67</td>\n",
       "      <td>71</td>\n",
       "      <td>73</td>\n",
       "      <td>71</td>\n",
       "      <td>65</td>\n",
       "      <td>73</td>\n",
       "      <td>65</td>\n",
       "      <td>70</td>\n",
       "      <td>63</td>\n",
       "      <td>54</td>\n",
       "    </tr>\n",
       "    <tr>\n",
       "      <th>C</th>\n",
       "      <td>17</td>\n",
       "      <td>24</td>\n",
       "      <td>22</td>\n",
       "      <td>21</td>\n",
       "      <td>25</td>\n",
       "      <td>22</td>\n",
       "      <td>23</td>\n",
       "      <td>22</td>\n",
       "      <td>22</td>\n",
       "      <td>22</td>\n",
       "      <td>23</td>\n",
       "      <td>21</td>\n",
       "    </tr>\n",
       "    <tr>\n",
       "      <th>D</th>\n",
       "      <td>31</td>\n",
       "      <td>39</td>\n",
       "      <td>35</td>\n",
       "      <td>36</td>\n",
       "      <td>38</td>\n",
       "      <td>34</td>\n",
       "      <td>35</td>\n",
       "      <td>37</td>\n",
       "      <td>40</td>\n",
       "      <td>40</td>\n",
       "      <td>38</td>\n",
       "      <td>36</td>\n",
       "    </tr>\n",
       "  </tbody>\n",
       "</table>\n",
       "</div>"
      ],
      "text/plain": [
       "Month    1.0   2.0   3.0   4.0   5.0   6.0   7.0   8.0   9.0   10.0  11.0  \\\n",
       "Site_Id                                                                     \n",
       "A          31    38    36    35    37    34    35    37    38    40    37   \n",
       "B          31    38    37    37    38    35    35    36    39    40    37   \n",
       "Bay        58    63    67    71    73    71    65    73    65    70    63   \n",
       "C          17    24    22    21    25    22    23    22    22    22    23   \n",
       "D          31    39    35    36    38    34    35    37    40    40    38   \n",
       "\n",
       "Month    12.0  \n",
       "Site_Id        \n",
       "A          35  \n",
       "B          34  \n",
       "Bay        54  \n",
       "C          21  \n",
       "D          36  "
      ]
     },
     "execution_count": 40,
     "metadata": {},
     "output_type": "execute_result"
    }
   ],
   "source": [
    "# Create contingency table\n",
    "contingency_table = pd.crosstab(bbnwr[\"Site_Id\"], bbnwr[\"Month\"])\n",
    "contingency_table\n"
   ]
  },
  {
   "cell_type": "markdown",
   "metadata": {},
   "source": [
    "In comparison to other Site_Id values, the counts in the row or column corresponding to the \"Bay\" site are probably going to be abnormally high or low in particular months. This suggests that during specific seasons of the year, measurements at the \"Bay\" site are preferred or avoided. This demonstrates that Month and Site_Id are dependent variables. The counts in the \"Bay\" row/column, regardless of the month, would be proportionate to its total frequency if they were independent. Significant variations in the counts imply that the season has an impact on measurements at the \"Bay\" station.\n"
   ]
  },
  {
   "cell_type": "markdown",
   "metadata": {},
   "source": [
    "### Q4d\n",
    "\n",
    "Using the `sps.chi2_contingency` function, perform a $\\chi^2$ test for independence between these two variables. Use an $\\alpha$-level of 0.05. Report if you would reject the null hypothesis that the variables are independent. Write, in words, your conclusion to the question of whether different sites were favored in particular months."
   ]
  },
  {
   "cell_type": "code",
   "execution_count": 41,
   "metadata": {},
   "outputs": [
    {
     "data": {
      "text/plain": [
       "(np.False_, np.float64(0.9999999999999852))"
      ]
     },
     "execution_count": 41,
     "metadata": {},
     "output_type": "execute_result"
    }
   ],
   "source": [
    "# compute p-value\n",
    "# Chi-squared test\n",
    "chi2, p, dof, expected = sps.chi2_contingency(contingency_table)\n",
    "\n",
    "# Rejection condition\n",
    "reject_null_chi2 = p < 0.05\n",
    "reject_null_chi2, p\n"
   ]
  },
  {
   "cell_type": "markdown",
   "metadata": {},
   "source": [
    " According to the findings of the chi-square test we fail to reject the null hypothesis, that there is no meaningful evidence of a relationship between Site_Id and Month. This suggests that the choice of measurement site seemed to be independent of the season and that different sites were not consistently preferred in specific months.\n"
   ]
  }
 ],
 "metadata": {
  "kernelspec": {
   "display_name": "Python 3",
   "language": "python",
   "name": "python3"
  },
  "language_info": {
   "codemirror_mode": {
    "name": "ipython",
    "version": 3
   },
   "file_extension": ".py",
   "mimetype": "text/x-python",
   "name": "python",
   "nbconvert_exporter": "python",
   "pygments_lexer": "ipython3",
   "version": "3.12.1"
  }
 },
 "nbformat": 4,
 "nbformat_minor": 4
}
